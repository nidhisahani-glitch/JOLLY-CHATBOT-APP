{
  "cells": [
    {
      "cell_type": "code",
      "execution_count": 17,
      "metadata": {},
      "outputs": [
        {
          "name": "stdout",
          "output_type": "stream",
          "text": [
            "Requirement already satisfied: typing-extensions in c:\\program files\\python38\\lib\\site-packages (4.12.2)Note: you may need to restart the kernel to use updated packages.\n",
            "\n"
          ]
        }
      ],
      "source": [
        "pip install typing-extensions "
      ]
    },
    {
      "cell_type": "code",
      "execution_count": 18,
      "metadata": {},
      "outputs": [
        {
          "name": "stdout",
          "output_type": "stream",
          "text": [
            "Requirement already satisfied: streamlit in c:\\program files\\python38\\lib\\site-packages (1.36.0)\n",
            "Requirement already satisfied: altair<6,>=4.0 in c:\\program files\\python38\\lib\\site-packages (from streamlit) (4.0.0)\n",
            "Requirement already satisfied: blinker<2,>=1.0.0 in c:\\program files\\python38\\lib\\site-packages (from streamlit) (1.7.0)\n",
            "Requirement already satisfied: cachetools<6,>=4.0 in c:\\program files\\python38\\lib\\site-packages (from streamlit) (5.3.2)\n",
            "Requirement already satisfied: click<9,>=7.0 in c:\\program files\\python38\\lib\\site-packages (from streamlit) (8.1.7)\n",
            "Requirement already satisfied: numpy<3,>=1.20 in c:\\program files\\python38\\lib\\site-packages (from streamlit) (1.24.4)\n",
            "Requirement already satisfied: packaging<25,>=20 in c:\\program files\\python38\\lib\\site-packages (from streamlit) (23.2)\n",
            "Requirement already satisfied: pandas<3,>=1.3.0 in c:\\program files\\python38\\lib\\site-packages (from streamlit) (2.0.3)\n",
            "Requirement already satisfied: pillow<11,>=7.1.0 in c:\\program files\\python38\\lib\\site-packages (from streamlit) (9.5.0)\n",
            "Requirement already satisfied: protobuf<6,>=3.20 in c:\\program files\\python38\\lib\\site-packages (from streamlit) (3.20.3)\n",
            "Requirement already satisfied: pyarrow>=7.0 in c:\\program files\\python38\\lib\\site-packages (from streamlit) (16.1.0)\n",
            "Requirement already satisfied: requests<3,>=2.27 in c:\\program files\\python38\\lib\\site-packages (from streamlit) (2.32.3)\n",
            "Requirement already satisfied: rich<14,>=10.14.0 in c:\\program files\\python38\\lib\\site-packages (from streamlit) (13.0.1)\n",
            "Requirement already satisfied: tenacity<9,>=8.1.0 in c:\\program files\\python38\\lib\\site-packages (from streamlit) (8.2.3)\n",
            "Requirement already satisfied: toml<2,>=0.10.1 in c:\\program files\\python38\\lib\\site-packages (from streamlit) (0.10.2)\n",
            "Requirement already satisfied: typing-extensions<5,>=4.3.0 in c:\\program files\\python38\\lib\\site-packages (from streamlit) (4.12.2)\n",
            "Requirement already satisfied: gitpython!=3.1.19,<4,>=3.0.7 in c:\\program files\\python38\\lib\\site-packages (from streamlit) (3.1.40)\n",
            "Requirement already satisfied: pydeck<1,>=0.8.0b4 in c:\\program files\\python38\\lib\\site-packages (from streamlit) (0.8.1b0)\n",
            "Requirement already satisfied: tornado<7,>=6.0.3 in c:\\program files\\python38\\lib\\site-packages (from streamlit) (6.3.3)\n",
            "Requirement already satisfied: watchdog<5,>=2.1.5 in c:\\program files\\python38\\lib\\site-packages (from streamlit) (3.0.0)\n",
            "Requirement already satisfied: entrypoints in c:\\program files\\python38\\lib\\site-packages (from altair<6,>=4.0->streamlit) (0.4)\n",
            "Requirement already satisfied: jinja2 in c:\\program files\\python38\\lib\\site-packages (from altair<6,>=4.0->streamlit) (3.1.2)\n",
            "Requirement already satisfied: jsonschema in c:\\program files\\python38\\lib\\site-packages (from altair<6,>=4.0->streamlit) (3.2.0)\n",
            "Requirement already satisfied: toolz in c:\\program files\\python38\\lib\\site-packages (from altair<6,>=4.0->streamlit) (0.12.0)\n",
            "Requirement already satisfied: colorama in c:\\program files\\python38\\lib\\site-packages (from click<9,>=7.0->streamlit) (0.4.6)\n",
            "Requirement already satisfied: gitdb<5,>=4.0.1 in c:\\program files\\python38\\lib\\site-packages (from gitpython!=3.1.19,<4,>=3.0.7->streamlit) (4.0.11)\n",
            "Requirement already satisfied: python-dateutil>=2.8.2 in c:\\program files\\python38\\lib\\site-packages (from pandas<3,>=1.3.0->streamlit) (2.8.2)\n",
            "Requirement already satisfied: pytz>=2020.1 in c:\\program files\\python38\\lib\\site-packages (from pandas<3,>=1.3.0->streamlit) (2023.3.post1)\n",
            "Requirement already satisfied: tzdata>=2022.1 in c:\\program files\\python38\\lib\\site-packages (from pandas<3,>=1.3.0->streamlit) (2023.3)\n",
            "Requirement already satisfied: charset-normalizer<4,>=2 in c:\\users\\hp\\appdata\\roaming\\python\\python38\\site-packages (from requests<3,>=2.27->streamlit) (3.3.0)\n",
            "Requirement already satisfied: idna<4,>=2.5 in c:\\program files\\python38\\lib\\site-packages (from requests<3,>=2.27->streamlit) (2.10)\n",
            "Requirement already satisfied: urllib3<3,>=1.21.1 in c:\\program files\\python38\\lib\\site-packages (from requests<3,>=2.27->streamlit) (1.26.20)\n",
            "Requirement already satisfied: certifi>=2017.4.17 in c:\\users\\hp\\appdata\\roaming\\python\\python38\\site-packages (from requests<3,>=2.27->streamlit) (2023.7.22)\n",
            "Requirement already satisfied: commonmark<0.10.0,>=0.9.0 in c:\\program files\\python38\\lib\\site-packages (from rich<14,>=10.14.0->streamlit) (0.9.1)\n",
            "Requirement already satisfied: pygments<3.0.0,>=2.6.0 in c:\\program files\\python38\\lib\\site-packages (from rich<14,>=10.14.0->streamlit) (2.17.2)\n",
            "Requirement already satisfied: smmap<6,>=3.0.1 in c:\\program files\\python38\\lib\\site-packages (from gitdb<5,>=4.0.1->gitpython!=3.1.19,<4,>=3.0.7->streamlit) (5.0.1)\n",
            "Requirement already satisfied: MarkupSafe>=2.0 in c:\\program files\\python38\\lib\\site-packages (from jinja2->altair<6,>=4.0->streamlit) (2.1.3)\n",
            "Requirement already satisfied: six>=1.5 in c:\\program files\\python38\\lib\\site-packages (from python-dateutil>=2.8.2->pandas<3,>=1.3.0->streamlit) (1.15.0)\n",
            "Requirement already satisfied: attrs>=17.4.0 in c:\\program files\\python38\\lib\\site-packages (from jsonschema->altair<6,>=4.0->streamlit) (24.2.0)\n",
            "Requirement already satisfied: pyrsistent>=0.14.0 in c:\\program files\\python38\\lib\\site-packages (from jsonschema->altair<6,>=4.0->streamlit) (0.20.0)\n",
            "Requirement already satisfied: setuptools in c:\\program files\\python38\\lib\\site-packages (from jsonschema->altair<6,>=4.0->streamlit) (75.3.0)\n",
            "Note: you may need to restart the kernel to use updated packages.\n"
          ]
        }
      ],
      "source": [
        "pip install streamlit"
      ]
    },
    {
      "cell_type": "code",
      "execution_count": 31,
      "metadata": {
        "colab": {
          "base_uri": "https://localhost:8080/"
        },
        "id": "TKUmiJcczsXd",
        "outputId": "42633e12-6393-49ca-ea15-8128e2295c18"
      },
      "outputs": [
        {
          "name": "stderr",
          "output_type": "stream",
          "text": [
            "[nltk_data] Downloading package punkt to\n",
            "[nltk_data]     C:\\Users\\hp\\AppData\\Roaming\\nltk_data...\n",
            "[nltk_data]   Package punkt is already up-to-date!\n"
          ]
        },
        {
          "data": {
            "text/plain": [
              "True"
            ]
          },
          "execution_count": 31,
          "metadata": {},
          "output_type": "execute_result"
        }
      ],
      "source": [
        "import os\n",
        "import nltk\n",
        "import ssl\n",
        "import streamlit as st\n",
        "import random\n",
        "from sklearn.feature_extraction.text import TfidfVectorizer, CountVectorizer\n",
        "from sklearn.svm import SVC\n",
        "from sklearn.naive_bayes import MultinomialNB\n",
        "from sklearn.ensemble import RandomForestClassifier, GradientBoostingClassifier\n",
        "from sklearn.linear_model import LogisticRegression\n",
        "from sklearn.pipeline import Pipeline\n",
        "\n",
        "from sklearn.ensemble import StackingClassifier\n",
        "\n",
        "ssl._create_default_https_context = ssl._create_unverified_context\n",
        "nltk.data.path.append(os.path.abspath(\"nltk_data\"))\n",
        "nltk.download('punkt')"
      ]
    },
    {
      "cell_type": "code",
      "execution_count": 32,
      "metadata": {
        "id": "mBAqMFNE05gs"
      },
      "outputs": [],
      "source": [
        "import pandas as pd\n",
        "import numpy as np"
      ]
    },
    {
      "cell_type": "code",
      "execution_count": 33,
      "metadata": {
        "id": "0LQ9x7ab0uHC"
      },
      "outputs": [],
      "source": [
        "df = pd.read_json('chatbot-intents.json')"
      ]
    },
    {
      "cell_type": "code",
      "execution_count": 34,
      "metadata": {
        "colab": {
          "base_uri": "https://localhost:8080/",
          "height": 243
        },
        "id": "d_y9ilFL1MQG",
        "outputId": "d279ca4a-8c32-4333-b660-231d2f9852ae"
      },
      "outputs": [
        {
          "data": {
            "text/html": [
              "<div>\n",
              "<style scoped>\n",
              "    .dataframe tbody tr th:only-of-type {\n",
              "        vertical-align: middle;\n",
              "    }\n",
              "\n",
              "    .dataframe tbody tr th {\n",
              "        vertical-align: top;\n",
              "    }\n",
              "\n",
              "    .dataframe thead th {\n",
              "        text-align: right;\n",
              "    }\n",
              "</style>\n",
              "<table border=\"1\" class=\"dataframe\">\n",
              "  <thead>\n",
              "    <tr style=\"text-align: right;\">\n",
              "      <th></th>\n",
              "      <th>intents</th>\n",
              "    </tr>\n",
              "  </thead>\n",
              "  <tbody>\n",
              "    <tr>\n",
              "      <th>0</th>\n",
              "      <td>{'tag': 'greeting', 'patterns': ['Hi', 'Hey', ...</td>\n",
              "    </tr>\n",
              "    <tr>\n",
              "      <th>1</th>\n",
              "      <td>{'tag': 'morning', 'patterns': ['Good morning'...</td>\n",
              "    </tr>\n",
              "    <tr>\n",
              "      <th>2</th>\n",
              "      <td>{'tag': 'afternoon', 'patterns': ['Good aftern...</td>\n",
              "    </tr>\n",
              "    <tr>\n",
              "      <th>3</th>\n",
              "      <td>{'tag': 'evening', 'patterns': ['Good evening'...</td>\n",
              "    </tr>\n",
              "    <tr>\n",
              "      <th>4</th>\n",
              "      <td>{'tag': 'night', 'patterns': ['Good night'], '...</td>\n",
              "    </tr>\n",
              "  </tbody>\n",
              "</table>\n",
              "</div>"
            ],
            "text/plain": [
              "                                             intents\n",
              "0  {'tag': 'greeting', 'patterns': ['Hi', 'Hey', ...\n",
              "1  {'tag': 'morning', 'patterns': ['Good morning'...\n",
              "2  {'tag': 'afternoon', 'patterns': ['Good aftern...\n",
              "3  {'tag': 'evening', 'patterns': ['Good evening'...\n",
              "4  {'tag': 'night', 'patterns': ['Good night'], '..."
            ]
          },
          "execution_count": 34,
          "metadata": {},
          "output_type": "execute_result"
        }
      ],
      "source": [
        "df.head()"
      ]
    },
    {
      "cell_type": "code",
      "execution_count": 35,
      "metadata": {
        "id": "j2olQ4uy1ucm"
      },
      "outputs": [],
      "source": [
        "intents = df.intents.values"
      ]
    },
    {
      "cell_type": "code",
      "execution_count": 36,
      "metadata": {
        "id": "tCxqERIz1NsH"
      },
      "outputs": [],
      "source": [
        "# Extract the tag and patterns\n",
        "tags = []\n",
        "patterns = []\n",
        "for intent in intents:\n",
        "    for pattern in intent['patterns']:\n",
        "        tags.append(intent['tag'])\n",
        "        patterns.append(pattern)"
      ]
    },
    {
      "cell_type": "code",
      "execution_count": 37,
      "metadata": {
        "colab": {
          "base_uri": "https://localhost:8080/"
        },
        "id": "toHzH5zO2WKK",
        "outputId": "9f3c1dac-3e63-4e91-e142-c4dff7eb5c08"
      },
      "outputs": [
        {
          "data": {
            "text/plain": [
              "True"
            ]
          },
          "execution_count": 37,
          "metadata": {},
          "output_type": "execute_result"
        }
      ],
      "source": [
        "len(tags) == len(patterns)"
      ]
    },
    {
      "cell_type": "code",
      "execution_count": 38,
      "metadata": {
        "colab": {
          "base_uri": "https://localhost:8080/"
        },
        "id": "JASABeMfZvwg",
        "outputId": "cdafab3f-a7c9-4e02-fe8b-d3e368475fe7"
      },
      "outputs": [
        {
          "name": "stdout",
          "output_type": "stream",
          "text": [
            "['Hi', 'Hey', 'Is anyone there?', 'Hi there', 'Hello', 'Hey there', 'Howdy', 'Hola', 'Bonjour', 'Konnichiwa', 'Guten tag', 'Ola', 'Hola amigo', 'Salut', 'Good day', \"What's up?\", \"How's it going?\", 'Yo', 'Hiya', 'Greetings', 'Hey buddy', 'Namaste', 'Hola there', 'Hi friend', 'Hey you', 'Hihi', \"How's your day?\", 'Hi stranger', 'Hi sunshine', 'How are things?', 'Hi pal', 'Hey sunshine', \"How's life treating you?\", 'Hi mate', 'Hello friend', 'Hey bud', 'Hey mate', 'Top of the morning to you', 'Hello sunshine', 'Hiya mate', 'Howdy partner', 'Hey amigo', 'Greetings Earthling', \"What's popping?\", 'Hiya buddy', 'Hey amigo', \"How's everything?\", 'Hello sunshine', 'Hey champ', 'Greetings and salutations', 'Hiya amigo', 'Hey good looking', 'Hiya sunshine', 'Hey there sport', \"How's your day going?\", 'Hiya pal', 'Hey superstar', \"What's cracking?\", 'Hiya there', 'Howdy there', 'Hey superstar', \"How's everything going?\", 'Good morning', 'Good afternoon', 'Good evening', 'Good night', 'Bye', 'See you later', 'Goodbye', 'Au revoir', 'Sayonara', 'ok bye', 'Bye then', 'Fare thee well', 'Thanks', 'Thank you', \"That's helpful\", 'Thanks for the help', 'Than you very much', '', 'nothing much', 'Who are you?', 'What are you?', 'Who you are?', 'Tell me more about yourself.', 'What is your name?', 'What should I call you?', \"What's your name?\", 'Tell me about yourself', 'Can I call you JJ?', \"What's your story?\", 'Introduce yourself', 'Share about you', 'Who is behind the screen?', 'Any background on you?', 'What can you tell me about yourself?', 'What can you do?', 'Who created you?', 'How were you made?', 'How were you created?', 'Who developed you?', 'Give me some info about you', 'Your origin story?', 'Tell me about your existence', 'Who made you?', 'Behind the scenes info?', 'Any personal details?', 'Unveil your backstory', 'Reveal yourself', \"Who's the creator?\", \"What's your origin?\", 'Any facts about yourself?', 'Share some details', 'Behind the avatar', 'Your background?', 'Unmask yourself', 'The genius behind you?', 'Origin and creator?', 'Tell me your history', \"Creator's details?\", 'Give me insights about you', \"Your developer's name?\", 'Story of your creation', 'Behind the AI', 'Who programmed you?', 'Background info, please', 'The mind behind you?', 'Any trivia about yourself?', \"Who's in charge here?\", 'About the developer', 'Your birth story?', 'The brains behind you?', 'Any backstory?', 'Who brought you to life?', 'Share your origin story', 'Behind the code', 'Tell me about your roots', 'Who coded you?', 'My name is ', 'I am name.', 'I go by ', 'Could you help me?', 'give me a hand please', 'Can you help?', 'What can you do for me?', 'I need support', 'I need help', 'Support me please', 'I am feeling lonely', 'I am so lonely', 'I feel down', 'I feel sad', 'I am sad', 'I feel so lonely', 'I feel empty', \"I don't have anyone\", 'I am so stressed out', 'I am so stressed', 'I feel stuck', 'I still feel stressed', 'I am so burned out', 'I feel so worthless.', 'No one likes me.', \"I can't do anything.\", 'I am so useless', 'Nothing makes sense anymore', \"I can't take it anymore\", 'I am so depressed', \"I think i'm depressed.\", 'I have depression', 'I feel great today.', 'I am happy.', 'I feel happy.', \"I'm good.\", 'cheerful', \"I'm fine\", 'I feel ok', 'Oh I see.', 'ok', 'okay', 'nice', 'Whatever', 'K', 'Fine', 'yeah', 'yes', 'no', 'not really', 'I feel so anxious.', \"I'm so anxious because of \", \"I don't want to talk about it.\", 'No just stay away.', \"I can't bring myself to open up.\", 'Just shut up', 'I have insominia', 'I am suffering from insomnia', \"I can't sleep.\", \"I haven't slept for the last days.\", \"I can't seem to go to sleep.\", \"I haven't had proper sleep for the past few days.\", \"I'm scared\", 'That sounds awful. What do i do?', \"No i don't want to feel this way\", 'I am scared for myself', 'My mom died', 'My brother died', 'My dad passed away', 'My sister passed away', 'Someone in my family died', 'My friend passed away', \"You don't understand me.\", \"You're just some robot. How would you know?\", \"You can't possibly know what i'm going through\", \"You're useless\", \"You can't help me\", 'Nobody understands me.', \"That's all.\", \"I don't have anything more to say\", 'Nothing else', \"That's all i have to say\", 'no, that would be all', 'I want to kill myself', \"I've thought about killing myself.\", 'I want to die', 'I am going to kill myself', 'I am going to commit suicide', 'I hate you', \"I don't like you\", \"I don't trust you\", 'You hate me', 'I know you hate me', \"You don't like me\", 'exams', 'friends', 'relationship', 'boyfriend', 'girlfriend', 'family', 'money', 'financial problems', 'Tell me a joke', 'Tell me another joke', 'Make me laugh', 'Say something funny', 'Give me a good laugh', 'Crack a joke', 'Share a humorous story', 'Entertain me with a joke', 'I need a joke', 'Bring on the humor', 'Tell me a funny story', 'Give me your best joke', 'Something to lighten the mood', 'Inject some humor', 'Make my day with a joke', 'Got any jokes?', 'Hit me with a joke', 'In the mood for laughter', 'Share a light-hearted joke', 'Cheer me up with humor', 'A joke, please', 'I could use a laugh', 'Time for a joke', 'Entertain me', 'Something amusing, please', \"I'm ready for a joke\", 'Tell me something funny', 'Humor me', 'Jokes, anyone?', 'Make me smile', 'Lighten the mood', 'Bring on the comedy', 'Jokes time', 'Feeling like a laugh', 'Hit me with humor', 'Brighten my day', 'I need some laughter', 'Time for a chuckle', 'A funny tale, perhaps?', 'Ready for a joke', \"I'm in for some humor\", 'Bring on the funny', 'Crack me up', 'Funny business, please', 'Tell me a light-hearted story', 'You already told me that', 'You mentioned that already', 'Why are you repeating yourself?', 'I need motivation', 'Give me a motivational quote', 'Inspire me', 'Motivate me', \"I'm feeling demotivated\", 'I feel down', 'Cheer me up', 'Feeling low', 'Make me smile', \"I'm sad\", 'Share a positive quote', 'Need some positivity', 'Give me a boost', 'Positive vibes only', 'Inspire me', \"I don't feel good about myself\", 'Boost my self-esteem', 'Encourage me', 'I feel worthless', 'I need self-love', 'Tell me a funny story', 'I need a good laugh', 'Share a joke', 'Make me laugh', 'Humor me', 'I feel lonely', 'Need a friend', 'Lonely right now', 'Be my friend', \"I'm alone\", 'Boost my confidence', 'I doubt myself', 'Need encouragement', 'Confidence boost', 'I lack self-confidence', 'Thank you', 'Thanks a lot', 'Appreciate it', 'Grateful', 'Thanks a million', 'Thankful', 'Help me relax', \"I'm stressed\", 'Relieve my stress', 'Need a break', 'Calm me down', \"How's your day?\", \"What's up?\", 'How are you?', \"What's new?\", \"How's it going?\", 'What are you saying?', \"That doesn't make sense\", 'Wrong response', 'Wrong answer', 'Are you stupid?', \"You're crazy\", 'You are dumb', 'Are you dumb?', 'Where are you?', 'Where do you live?', 'What is your location?', 'I want to talk about something else', \"Let's talk about something else.\", 'Can we not talk about this?', \"I don't want to talk about this.\", \"I don't have any friends\", 'Can I ask you something?', \"Probably because my exams are approaching. I feel stressed out because I don't think I've prepared well enough.\", 'probably because of my exams', 'I guess not. All I can think about are my exams.', 'not really', 'i guess not', 'ok sure. i would like to learn more about it.', 'yes, i would like to learn more about it.', 'i would like to learn more about it.', \"yeah you're right. i deserve a break.\", \"Yeah you're absolutely right about that\", 'hmmm that sounds like it could be useful to me.', 'That sounds useful.', 'i did what you said and i feel alot better. thank you very much.', 'I feel better now', \"thank you very much again. i'll continue practicing meditation and focus on what i can control.\", 'I want some advice.', 'I need some advice.', 'I need advice on something', 'I want to learn about mental health.', 'I want to learn more about mental health.', \"I'm interested in learning about mental health.\", 'Tell me a fact about mental health', 'Tell me another fact about mental health', 'What is mental health?', 'Define Mental Health', 'Why is mental health important?', 'What is the importance of mental health?', 'What is Depression?', 'Define Depression', 'How do i know if i have Depression?', 'Am i depressed?', 'Am i suffering from depression?', 'Am i mentally ill?', 'What is a therapist?', 'What does a therapist do?', 'What is therapy?', 'Do i need therapy?', 'Who is therapy for?', 'What does it mean to have a mental illness?', 'Who does mental illness affect?', 'What causes mental illness?', 'What are some of the warning signs of mental illness?', 'Can people with mental illness recover?', 'What should I do if I know someone who appears to have the symptoms of a mental disorder?', 'How can I find a mental health professional for myself or my child?', 'What treatment options are available?', 'If I become involved in treatment, what do I need to know?', 'What is the difference between mental health professionals?', 'How can I find a mental health professional right for my child or myself?', 'Where else can I get help?', 'What should I know before starting a new medication?', 'Where can I go to find therapy?', 'Where can I learn about types of mental health treatment?', 'What are the different types of mental health professionals?', 'Where can I go to find a support group?', 'Can you prevent mental health problems?', 'Are there cures for mental health problems?', 'is there any cure for mental health problems?', 'What causes mental health problems?', \"What do I do if I'm worried about my mental health?\", \"How do I know if I'm unwell?\", 'How can I maintain social connections? What if I feel lonely?', \"What's the difference between anxiety and stress?\", \"What's the difference between sadness and depression?\", 'difference between sadness and depression']\n"
          ]
        }
      ],
      "source": [
        "print(patterns)"
      ]
    },
    {
      "cell_type": "code",
      "execution_count": 39,
      "metadata": {
        "id": "GAA6fpx02YAe"
      },
      "outputs": [],
      "source": [
        "X = patterns\n",
        "y = tags"
      ]
    },
    {
      "cell_type": "code",
      "execution_count": 40,
      "metadata": {
        "id": "X0tpqpu0cv3I"
      },
      "outputs": [],
      "source": [
        "gbc = GradientBoostingClassifier(random_state=42)\n",
        "model = Pipeline([('tfidf', TfidfVectorizer()), ('gbc', gbc)])"
      ]
    },
    {
      "cell_type": "code",
      "execution_count": 41,
      "metadata": {
        "colab": {
          "base_uri": "https://localhost:8080/",
          "height": 126
        },
        "id": "y9OGOgsefUi5",
        "outputId": "ab16590c-48a0-47a9-9db4-80e0349d6a5a"
      },
      "outputs": [
        {
          "data": {
            "text/html": [
              "<style>#sk-container-id-2 {color: black;}#sk-container-id-2 pre{padding: 0;}#sk-container-id-2 div.sk-toggleable {background-color: white;}#sk-container-id-2 label.sk-toggleable__label {cursor: pointer;display: block;width: 100%;margin-bottom: 0;padding: 0.3em;box-sizing: border-box;text-align: center;}#sk-container-id-2 label.sk-toggleable__label-arrow:before {content: \"▸\";float: left;margin-right: 0.25em;color: #696969;}#sk-container-id-2 label.sk-toggleable__label-arrow:hover:before {color: black;}#sk-container-id-2 div.sk-estimator:hover label.sk-toggleable__label-arrow:before {color: black;}#sk-container-id-2 div.sk-toggleable__content {max-height: 0;max-width: 0;overflow: hidden;text-align: left;background-color: #f0f8ff;}#sk-container-id-2 div.sk-toggleable__content pre {margin: 0.2em;color: black;border-radius: 0.25em;background-color: #f0f8ff;}#sk-container-id-2 input.sk-toggleable__control:checked~div.sk-toggleable__content {max-height: 200px;max-width: 100%;overflow: auto;}#sk-container-id-2 input.sk-toggleable__control:checked~label.sk-toggleable__label-arrow:before {content: \"▾\";}#sk-container-id-2 div.sk-estimator input.sk-toggleable__control:checked~label.sk-toggleable__label {background-color: #d4ebff;}#sk-container-id-2 div.sk-label input.sk-toggleable__control:checked~label.sk-toggleable__label {background-color: #d4ebff;}#sk-container-id-2 input.sk-hidden--visually {border: 0;clip: rect(1px 1px 1px 1px);clip: rect(1px, 1px, 1px, 1px);height: 1px;margin: -1px;overflow: hidden;padding: 0;position: absolute;width: 1px;}#sk-container-id-2 div.sk-estimator {font-family: monospace;background-color: #f0f8ff;border: 1px dotted black;border-radius: 0.25em;box-sizing: border-box;margin-bottom: 0.5em;}#sk-container-id-2 div.sk-estimator:hover {background-color: #d4ebff;}#sk-container-id-2 div.sk-parallel-item::after {content: \"\";width: 100%;border-bottom: 1px solid gray;flex-grow: 1;}#sk-container-id-2 div.sk-label:hover label.sk-toggleable__label {background-color: #d4ebff;}#sk-container-id-2 div.sk-serial::before {content: \"\";position: absolute;border-left: 1px solid gray;box-sizing: border-box;top: 0;bottom: 0;left: 50%;z-index: 0;}#sk-container-id-2 div.sk-serial {display: flex;flex-direction: column;align-items: center;background-color: white;padding-right: 0.2em;padding-left: 0.2em;position: relative;}#sk-container-id-2 div.sk-item {position: relative;z-index: 1;}#sk-container-id-2 div.sk-parallel {display: flex;align-items: stretch;justify-content: center;background-color: white;position: relative;}#sk-container-id-2 div.sk-item::before, #sk-container-id-2 div.sk-parallel-item::before {content: \"\";position: absolute;border-left: 1px solid gray;box-sizing: border-box;top: 0;bottom: 0;left: 50%;z-index: -1;}#sk-container-id-2 div.sk-parallel-item {display: flex;flex-direction: column;z-index: 1;position: relative;background-color: white;}#sk-container-id-2 div.sk-parallel-item:first-child::after {align-self: flex-end;width: 50%;}#sk-container-id-2 div.sk-parallel-item:last-child::after {align-self: flex-start;width: 50%;}#sk-container-id-2 div.sk-parallel-item:only-child::after {width: 0;}#sk-container-id-2 div.sk-dashed-wrapped {border: 1px dashed gray;margin: 0 0.4em 0.5em 0.4em;box-sizing: border-box;padding-bottom: 0.4em;background-color: white;}#sk-container-id-2 div.sk-label label {font-family: monospace;font-weight: bold;display: inline-block;line-height: 1.2em;}#sk-container-id-2 div.sk-label-container {text-align: center;}#sk-container-id-2 div.sk-container {/* jupyter's `normalize.less` sets `[hidden] { display: none; }` but bootstrap.min.css set `[hidden] { display: none !important; }` so we also need the `!important` here to be able to override the default hidden behavior on the sphinx rendered scikit-learn.org. See: https://github.com/scikit-learn/scikit-learn/issues/21755 */display: inline-block !important;position: relative;}#sk-container-id-2 div.sk-text-repr-fallback {display: none;}</style><div id=\"sk-container-id-2\" class=\"sk-top-container\"><div class=\"sk-text-repr-fallback\"><pre>Pipeline(steps=[(&#x27;tfidf&#x27;, TfidfVectorizer()),\n",
              "                (&#x27;gbc&#x27;, GradientBoostingClassifier(random_state=42))])</pre><b>In a Jupyter environment, please rerun this cell to show the HTML representation or trust the notebook. <br />On GitHub, the HTML representation is unable to render, please try loading this page with nbviewer.org.</b></div><div class=\"sk-container\" hidden><div class=\"sk-item sk-dashed-wrapped\"><div class=\"sk-label-container\"><div class=\"sk-label sk-toggleable\"><input class=\"sk-toggleable__control sk-hidden--visually\" id=\"sk-estimator-id-4\" type=\"checkbox\" ><label for=\"sk-estimator-id-4\" class=\"sk-toggleable__label sk-toggleable__label-arrow\">Pipeline</label><div class=\"sk-toggleable__content\"><pre>Pipeline(steps=[(&#x27;tfidf&#x27;, TfidfVectorizer()),\n",
              "                (&#x27;gbc&#x27;, GradientBoostingClassifier(random_state=42))])</pre></div></div></div><div class=\"sk-serial\"><div class=\"sk-item\"><div class=\"sk-estimator sk-toggleable\"><input class=\"sk-toggleable__control sk-hidden--visually\" id=\"sk-estimator-id-5\" type=\"checkbox\" ><label for=\"sk-estimator-id-5\" class=\"sk-toggleable__label sk-toggleable__label-arrow\">TfidfVectorizer</label><div class=\"sk-toggleable__content\"><pre>TfidfVectorizer()</pre></div></div></div><div class=\"sk-item\"><div class=\"sk-estimator sk-toggleable\"><input class=\"sk-toggleable__control sk-hidden--visually\" id=\"sk-estimator-id-6\" type=\"checkbox\" ><label for=\"sk-estimator-id-6\" class=\"sk-toggleable__label sk-toggleable__label-arrow\">GradientBoostingClassifier</label><div class=\"sk-toggleable__content\"><pre>GradientBoostingClassifier(random_state=42)</pre></div></div></div></div></div></div></div>"
            ],
            "text/plain": [
              "Pipeline(steps=[('tfidf', TfidfVectorizer()),\n",
              "                ('gbc', GradientBoostingClassifier(random_state=42))])"
            ]
          },
          "execution_count": 41,
          "metadata": {},
          "output_type": "execute_result"
        }
      ],
      "source": [
        "model.fit(X,y)"
      ]
    },
    {
      "cell_type": "code",
      "execution_count": 42,
      "metadata": {
        "colab": {
          "base_uri": "https://localhost:8080/"
        },
        "id": "R_HokaqdfhZi",
        "outputId": "8383c460-b015-4bbf-9475-d77e6558c9ec"
      },
      "outputs": [
        {
          "data": {
            "text/plain": [
              "['jolly.model']"
            ]
          },
          "execution_count": 42,
          "metadata": {},
          "output_type": "execute_result"
        }
      ],
      "source": [
        "import joblib\n",
        "joblib.dump(model, 'jolly.model')"
      ]
    },
    {
      "cell_type": "code",
      "execution_count": 43,
      "metadata": {
        "id": "Hhxk0xR-19LP"
      },
      "outputs": [],
      "source": [
        "def chatbot(input_text, intents):\n",
        "    \"\"\"Generate a chatbot response.\"\"\"\n",
        "    try:\n",
        "        tag = model.predict([input_text])[0]\n",
        "        for intent in intents:\n",
        "            if intent['tag'] == tag:\n",
        "                response = np.random.choice(intent['responses'])\n",
        "                return response\n",
        "        return \"I'm sorry, I didn't understand that. Could you rephrase?\"\n",
        "    except Exception as e:\n",
        "        return f\"An error occurred: {str(e)}\""
      ]
    },
    {
      "cell_type": "code",
      "execution_count": 44,
      "metadata": {
        "colab": {
          "base_uri": "https://localhost:8080/",
          "height": 56
        },
        "id": "xZeKkkfT1-Q-",
        "outputId": "ddb83492-b265-4fc3-d9f7-16987fb93418"
      },
      "outputs": [
        {
          "data": {
            "text/plain": [
              "'Not much, just hanging out. How about you?'"
            ]
          },
          "execution_count": 44,
          "metadata": {},
          "output_type": "execute_result"
        }
      ],
      "source": [
        "chatbot('How are you', intents)"
      ]
    },
    {
      "cell_type": "code",
      "execution_count": 45,
      "metadata": {
        "colab": {
          "base_uri": "https://localhost:8080/"
        },
        "id": "fRQSQoZr5fs6",
        "outputId": "2c59766a-3922-423f-e461-bc319fa987a7"
      },
      "outputs": [
        {
          "name": "stdout",
          "output_type": "stream",
          "text": [
            "Overwriting app.py\n"
          ]
        }
      ],
      "source": [
        "%%writefile app.py\n",
        "counter = 0\n",
        "\n",
        "\n",
        "def main():\n",
        "    global counter\n",
        "    st.set_page_config(\n",
        "        page_title=\"Mental Health Support - Feel Good Chatbot\",\n",
        "        page_icon=\"❤️\",\n",
        "        layout=\"wide\",\n",
        "        initial_sidebar_state=\"expanded\",\n",
        "    )\n",
        "\n",
        "    st.write(\"Please type something to start the conversation.\")\n",
        "\n",
        "    counter += 1\n",
        "    user_input = st.text_input(\"You:\", key=f\"user_input_{counter}\")\n",
        "\n",
        "    if user_input:\n",
        "        response = chatbot(gs_fit, user_input)\n",
        "        st.text_area(\"JJ:\", value=response, height=100, max_chars=None, key=f\"chatbot_response_{counter}\")\n",
        "\n",
        "        if response.lower() in ['goodbye', 'bye']:\n",
        "            st.write(\"Thank you for chatting with me. Have a great day!\")\n",
        "            st.stop()\n",
        "\n",
        "if __name__ == '__main__':\n",
        "    main()"
      ]
    }
  ],
  "metadata": {
    "colab": {
      "authorship_tag": "ABX9TyPAV6/dzKfVv5yOMqQHPkVi",
      "mount_file_id": "https://github.com/obedjunias19/Applied-Natural-Language-Processing/blob/master/Chatbot_Intents.ipynb",
      "provenance": []
    },
    "kernelspec": {
      "display_name": "Python 3",
      "language": "python",
      "name": "python3"
    },
    "language_info": {
      "codemirror_mode": {
        "name": "ipython",
        "version": 3
      },
      "file_extension": ".py",
      "mimetype": "text/x-python",
      "name": "python",
      "nbconvert_exporter": "python",
      "pygments_lexer": "ipython3",
      "version": "3.8.2"
    }
  },
  "nbformat": 4,
  "nbformat_minor": 0
}
